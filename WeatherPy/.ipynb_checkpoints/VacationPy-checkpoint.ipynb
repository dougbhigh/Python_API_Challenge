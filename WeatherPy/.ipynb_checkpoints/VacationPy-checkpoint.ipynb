{
 "cells": [
  {
   "cell_type": "markdown",
   "metadata": {},
   "source": [
    "# VacationPy\n",
    "----\n",
    "\n",
    "#### Note\n",
    "* Instructions have been included for each segment. You do not have to follow them exactly, but they are included to help you think through the steps."
   ]
  },
  {
   "cell_type": "raw",
   "metadata": {},
   "source": [
    "########################################################################################\n",
    "#  RUT-SOM-DATA-PT-06-2020-U-C                                            Douglas High #\n",
    "#   Python API Challenge                                                 July 20, 2020 # \n",
    "#      >VacationPy                                                                     #\n",
    "#   - read in city weather data and produce heatmap based on relative humidity.        #\n",
    "#   - filter cities suitable for hot, humid, and cloudy vacation, find nearby hotel.   #\n",
    "#   - create markers to overlay on heat map with hotel name, city, and country.        #\n",
    "########################################################################################"
   ]
  },
  {
   "cell_type": "code",
   "execution_count": 1,
   "metadata": {},
   "outputs": [],
   "source": [
    "####################################################\n",
    "#00     I/O                                        #\n",
    "#   a- import libraries and api key.               #\n",
    "#   b- read input into df and configure api key.   #\n",
    "####################################################\n",
    "\n",
    "#a\n",
    "import matplotlib.pyplot as plt\n",
    "import pandas as pd\n",
    "import numpy as np\n",
    "import requests\n",
    "import gmaps\n",
    "from api_keys import g_key\n",
    "\n",
    "#b\n",
    "city_weather_file = \"output_data/cities.csv\"\n",
    "city_weather = pd.read_csv(city_weather_file)\n",
    "\n",
    "gmaps.configure(api_key=g_key)"
   ]
  },
  {
   "cell_type": "code",
   "execution_count": 2,
   "metadata": {},
   "outputs": [
    {
     "data": {
      "application/vnd.jupyter.widget-view+json": {
       "model_id": "35e9fdaf4a094d3fb9d2ca4912648daf",
       "version_major": 2,
       "version_minor": 0
      },
      "text/plain": [
       "Figure(layout=FigureLayout(height='420px'))"
      ]
     },
     "metadata": {},
     "output_type": "display_data"
    }
   ],
   "source": [
    "#############################################################\n",
    "#01     Humidity Map                                        #\n",
    "#   a- set locations and humidity as \"heat\" for map.        #\n",
    "#   b- figure base map, set heat layer, and add it.         #\n",
    "#   c- display map and save.                                #\n",
    "#############################################################\n",
    "\n",
    "#a\n",
    "locations = city_weather[[\"lat\", \"lng\"]].astype(float)\n",
    "humidity = city_weather[\"humid\"]#.astype(float)\n",
    "\n",
    "#b\n",
    "fig = gmaps.figure(center=(30.0, 31.0), zoom_level=1.7)\n",
    "heat_layer = gmaps.heatmap_layer(locations, weights=humidity,dissipating=False, max_intensity=100, point_radius = 2)\n",
    "fig.add_layer(heat_layer)\n",
    "\n",
    "#c\n",
    "fig"
   ]
  },
  {
   "cell_type": "code",
   "execution_count": 3,
   "metadata": {},
   "outputs": [],
   "source": [
    "################################################################\n",
    "#02      Vacation Weather                                      #\n",
    "#   a- create new df, filtering cities to my weather           #\n",
    "#      specifications for vacation spots.                      #\n",
    "#   b- drop any rows with missing data from new vacation df.   #\n",
    "################################################################\n",
    "\n",
    "#a\n",
    "vacation_weather = city_weather[(city_weather[\"temp\"] > 80) & \n",
    "                                (city_weather[\"clouds\"] >= 50) & (city_weather[\"humid\"] >= 85)]\n",
    "#b\n",
    "vacation_weather = vacation_weather.dropna()\n",
    "vacation_weather.reset_index(inplace=True,drop=True)"
   ]
  },
  {
   "cell_type": "code",
   "execution_count": 4,
   "metadata": {},
   "outputs": [],
   "source": [
    "############################################################################\n",
    "#03    Hotel Df                                                            #\n",
    "#   a- creaate hotel_df, add name col, set base_url and parameters.        #\n",
    "#      create list in case missing hotel info to delete row.               #\n",
    "#   b- for each location in df, call google for nearby hotel, add to df.   #\n",
    "#   c- if missing hotel info, delete records from hotels_df.               #\n",
    "############################################################################\n",
    "\n",
    "#a\n",
    "hotel_df = vacation_weather\n",
    "hotel_df[\"Hotel Name\"] = \"\"\n",
    "params = {\"radius\": 5000, \"keyword\": \"hotels\", \"key\": g_key}\n",
    "base_url = \"https://maps.googleapis.com/maps/api/place/nearbysearch/json\"\n",
    "del_indexes = []\n",
    "\n",
    "#b\n",
    "for x, row in hotel_df.iterrows():\n",
    "    lat = row[\"lat\"]                                           # get lat, lng from df\n",
    "    lng = row[\"lng\"]\n",
    "    params[\"location\"] = f\"{lat},{lng}\"                        # set location at each iteration \n",
    "    \n",
    "    response = requests.get(base_url, params=params).json()    #call google for hotel name\n",
    "    \n",
    "    try:\n",
    "        hotel_df.loc[x, \"Hotel Name\"] = response[\"results\"][0][\"name\"]\n",
    "    except (KeyError, IndexError):\n",
    "        del_indexes.append(x)\n",
    "#c\n",
    "if len(del_indexes) > 0:\n",
    "    hotel_df.drop(del_indexes, inplace=True)\n",
    "    hotel_df.reset_index(inplace=True, drop=True)"
   ]
  },
  {
   "cell_type": "code",
   "execution_count": 5,
   "metadata": {},
   "outputs": [],
   "source": [
    "##############################################################\n",
    "#04     Hotel InfoBox                                        #\n",
    "#   - prewritten block of code for step 05 Marker Overlay.   #\n",
    "#      - setup infobox data in hotel_info.                   #\n",
    "#      - create lat,lng df for marker locations.             #\n",
    "##############################################################\n",
    "\n",
    "# NOTE: Do not change any of the code in this cell\n",
    "\n",
    "# Using the template add the hotel marks to the heatmap\n",
    "info_box_template = \"\"\"\n",
    "<dl>\n",
    "<dt>Name</dt><dd>{Hotel Name}</dd>\n",
    "<dt>City</dt><dd>{city}</dd>\n",
    "<dt>Country</dt><dd>{country}</dd>\n",
    "</dl>\n",
    "\"\"\"\n",
    "# Store the DataFrame Row\n",
    "hotel_info = [info_box_template.format(**row) for index, row in hotel_df.iterrows()]\n",
    "locations = hotel_df[[\"lat\", \"lng\"]]"
   ]
  },
  {
   "cell_type": "code",
   "execution_count": 6,
   "metadata": {},
   "outputs": [
    {
     "data": {
      "application/vnd.jupyter.widget-view+json": {
       "model_id": "35e9fdaf4a094d3fb9d2ca4912648daf",
       "version_major": 2,
       "version_minor": 0
      },
      "text/plain": [
       "Figure(layout=FigureLayout(height='420px'))"
      ]
     },
     "metadata": {},
     "output_type": "display_data"
    }
   ],
   "source": [
    "###################################################\n",
    "#05      Marker Overlay                           #\n",
    "#   a- assign marker layer to variable markers.   #\n",
    "#   b- add layer to map and display.              #\n",
    "###################################################\n",
    "\n",
    "#a\n",
    "markers = gmaps.marker_layer(locations,info_box_content =hotel_info)\n",
    "#b\n",
    "fig.add_layer(markers)\n",
    "fig"
   ]
  }
 ],
 "metadata": {
  "kernelspec": {
   "display_name": "Python 3",
   "language": "python",
   "name": "python3"
  },
  "language_info": {
   "codemirror_mode": {
    "name": "ipython",
    "version": 3
   },
   "file_extension": ".py",
   "mimetype": "text/x-python",
   "name": "python",
   "nbconvert_exporter": "python",
   "pygments_lexer": "ipython3",
   "version": "3.7.6"
  },
  "latex_envs": {
   "LaTeX_envs_menu_present": true,
   "autoclose": false,
   "autocomplete": true,
   "bibliofile": "biblio.bib",
   "cite_by": "apalike",
   "current_citInitial": 1,
   "eqLabelWithNumbers": true,
   "eqNumInitial": 1,
   "hotkeys": {
    "equation": "Ctrl-E",
    "itemize": "Ctrl-I"
   },
   "labels_anchors": false,
   "latex_user_defs": false,
   "report_style_numbering": false,
   "user_envs_cfg": false
  }
 },
 "nbformat": 4,
 "nbformat_minor": 2
}
