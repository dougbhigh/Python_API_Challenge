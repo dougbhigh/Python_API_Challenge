{
 "cells": [
  {
   "cell_type": "markdown",
   "metadata": {},
   "source": [
    "# VacationPy"
   ]
  },
  {
   "cell_type": "raw",
   "metadata": {},
   "source": [
    "########################################################################################\n",
    "#  RUT-SOM-DATA-PT-06-2020-U-C                                            Douglas High #\n",
    "#   Python API Challenge                                                 July 20, 2020 # \n",
    "#      >VacationPy                                                                     #\n",
    "#   - read in city weather data and produce heatmap based on relative humidity.        #\n",
    "#   - filter cities suitable for hot, humid, and cloudy vacation, find nearby hotel.   #\n",
    "#   - create markers to overlay on heat map with hotel name, city, and country.        #\n",
    "########################################################################################"
   ]
  },
  {
   "cell_type": "code",
   "execution_count": 1,
   "metadata": {},
   "outputs": [],
   "source": [
    "####################################################\n",
    "#00     I/O                                        #\n",
    "#   a- import libraries and api key.               #\n",
    "#   b- read input into df and configure api key.   #\n",
    "####################################################\n",
    "\n",
    "#a\n",
    "import matplotlib.pyplot as plt\n",
    "import pandas as pd\n",
    "import numpy as np\n",
    "import requests\n",
    "import gmaps\n",
    "from api_keys import g_key\n",
    "\n",
    "#b\n",
    "city_weather_file = \"output_data/cities.csv\"\n",
    "city_weather = pd.read_csv(city_weather_file)\n",
    "\n",
    "gmaps.configure(api_key=g_key)"
   ]
  },
  {
   "cell_type": "code",
   "execution_count": 2,
   "metadata": {},
   "outputs": [
    {
     "data": {
      "application/vnd.jupyter.widget-view+json": {
       "model_id": "77802b9d6dda45fc867d08648b462b8c",
       "version_major": 2,
       "version_minor": 0
      },
      "text/plain": [
       "Figure(layout=FigureLayout(height='420px'))"
      ]
     },
     "metadata": {},
     "output_type": "display_data"
    }
   ],
   "source": [
    "#############################################################\n",
    "#01     Humidity Map                                        #\n",
    "#   a- set locations and humidity as \"heat\" for map.        #\n",
    "#   b- figure base map, set heat layer, and add it.         #\n",
    "#   c- display map and save.                                #\n",
    "#############################################################\n",
    "\n",
    "#a\n",
    "locations = city_weather[[\"lat\", \"lng\"]].astype(float)\n",
    "humidity = city_weather[\"humid\"]#.astype(float)\n",
    "\n",
    "#b\n",
    "fig = gmaps.figure(center=(30.0, 31.0), zoom_level=1.7)\n",
    "heat_layer = gmaps.heatmap_layer(locations, weights=humidity,dissipating=False, max_intensity=100, point_radius = 2)\n",
    "fig.add_layer(heat_layer)\n",
    "\n",
    "#c\n",
    "fig"
   ]
  },
  {
   "cell_type": "code",
   "execution_count": 3,
   "metadata": {},
   "outputs": [
    {
     "data": {
      "text/html": [
       "<div>\n",
       "<style scoped>\n",
       "    .dataframe tbody tr th:only-of-type {\n",
       "        vertical-align: middle;\n",
       "    }\n",
       "\n",
       "    .dataframe tbody tr th {\n",
       "        vertical-align: top;\n",
       "    }\n",
       "\n",
       "    .dataframe thead th {\n",
       "        text-align: right;\n",
       "    }\n",
       "</style>\n",
       "<table border=\"1\" class=\"dataframe\">\n",
       "  <thead>\n",
       "    <tr style=\"text-align: right;\">\n",
       "      <th></th>\n",
       "      <th>city</th>\n",
       "      <th>temp</th>\n",
       "      <th>humid</th>\n",
       "      <th>wind</th>\n",
       "      <th>clouds</th>\n",
       "      <th>lat</th>\n",
       "      <th>lng</th>\n",
       "      <th>maxtemp</th>\n",
       "      <th>country</th>\n",
       "      <th>local_date_time</th>\n",
       "    </tr>\n",
       "  </thead>\n",
       "  <tbody>\n",
       "    <tr>\n",
       "      <th>0</th>\n",
       "      <td>san patricio</td>\n",
       "      <td>80.65</td>\n",
       "      <td>89</td>\n",
       "      <td>8.05</td>\n",
       "      <td>90</td>\n",
       "      <td>28.0170</td>\n",
       "      <td>-97.5169</td>\n",
       "      <td>82.4</td>\n",
       "      <td>US</td>\n",
       "      <td>2021-05-10 17:12:41</td>\n",
       "    </tr>\n",
       "    <tr>\n",
       "      <th>1</th>\n",
       "      <td>sembakung</td>\n",
       "      <td>80.60</td>\n",
       "      <td>94</td>\n",
       "      <td>2.30</td>\n",
       "      <td>75</td>\n",
       "      <td>3.8167</td>\n",
       "      <td>117.2500</td>\n",
       "      <td>80.6</td>\n",
       "      <td>ID</td>\n",
       "      <td>2021-05-11 06:17:15</td>\n",
       "    </tr>\n",
       "    <tr>\n",
       "      <th>2</th>\n",
       "      <td>nuevo progreso</td>\n",
       "      <td>81.00</td>\n",
       "      <td>91</td>\n",
       "      <td>1.01</td>\n",
       "      <td>100</td>\n",
       "      <td>23.1667</td>\n",
       "      <td>-97.9500</td>\n",
       "      <td>81.0</td>\n",
       "      <td>MX</td>\n",
       "      <td>2021-05-10 17:17:23</td>\n",
       "    </tr>\n",
       "  </tbody>\n",
       "</table>\n",
       "</div>"
      ],
      "text/plain": [
       "             city   temp  humid  wind  clouds      lat       lng  maxtemp  \\\n",
       "0    san patricio  80.65     89  8.05      90  28.0170  -97.5169     82.4   \n",
       "1       sembakung  80.60     94  2.30      75   3.8167  117.2500     80.6   \n",
       "2  nuevo progreso  81.00     91  1.01     100  23.1667  -97.9500     81.0   \n",
       "\n",
       "  country      local_date_time  \n",
       "0      US  2021-05-10 17:12:41  \n",
       "1      ID  2021-05-11 06:17:15  \n",
       "2      MX  2021-05-10 17:17:23  "
      ]
     },
     "execution_count": 3,
     "metadata": {},
     "output_type": "execute_result"
    }
   ],
   "source": [
    "################################################################\n",
    "#02      Vacation Weather                                      #\n",
    "#   a- create new df, filtering cities to my weather           #\n",
    "#      specifications for vacation spots.                      #\n",
    "#   b- drop any rows with missing data from new vacation df.   #\n",
    "################################################################\n",
    "\n",
    "#a\n",
    "vacation_weather = city_weather[(city_weather[\"temp\"] > 80) & \n",
    "                                (city_weather[\"clouds\"] >= 50) & (city_weather[\"humid\"] >= 85)]\n",
    "#b\n",
    "vacation_weather = vacation_weather.dropna()\n",
    "vacation_weather.reset_index(inplace=True,drop=True)\n",
    "vacation_weather"
   ]
  },
  {
   "cell_type": "code",
   "execution_count": 4,
   "metadata": {},
   "outputs": [],
   "source": [
    "############################################################################\n",
    "#03    Hotel Df                                                            #\n",
    "#   a- creaate hotel_df, add name col, set base_url and parameters.        #\n",
    "#      create list in case missing hotel info to delete row.               #\n",
    "#   b- for each location in df, call google for nearby hotel, add to df.   #\n",
    "#   c- if missing hotel info, delete records from hotels_df.               #\n",
    "############################################################################\n",
    "\n",
    "#a\n",
    "hotel_df = vacation_weather\n",
    "hotel_df[\"Hotel Name\"] = \"\"\n",
    "params = {\"radius\": 5000, \"keyword\": \"hotels\", \"key\": g_key}\n",
    "base_url = \"https://maps.googleapis.com/maps/api/place/nearbysearch/json\"\n",
    "del_indexes = []\n",
    "\n",
    "#b\n",
    "for x, row in hotel_df.iterrows():\n",
    "    lat = row[\"lat\"]                                           # get lat, lng from df\n",
    "    lng = row[\"lng\"]\n",
    "    params[\"location\"] = f\"{lat},{lng}\"                        # set location at each iteration \n",
    "    \n",
    "    response = requests.get(base_url, params=params).json()    #call google for hotel name\n",
    "    \n",
    "    try:\n",
    "        hotel_df.loc[x, \"Hotel Name\"] = response[\"results\"][0][\"name\"]\n",
    "    except (KeyError, IndexError):\n",
    "        del_indexes.append(x)\n",
    "#c\n",
    "if len(del_indexes) > 0:\n",
    "    hotel_df.drop(del_indexes, inplace=True)\n",
    "    hotel_df.reset_index(inplace=True, drop=True)"
   ]
  },
  {
   "cell_type": "code",
   "execution_count": 5,
   "metadata": {},
   "outputs": [],
   "source": [
    "##############################################################\n",
    "#04     Hotel InfoBox                                        #\n",
    "#   - prewritten block of code for step 05 Marker Overlay.   #\n",
    "#      - setup infobox data in hotel_info.                   #\n",
    "#      - create lat,lng df for marker locations.             #\n",
    "##############################################################\n",
    "\n",
    "# NOTE: Do not change any of the code in this cell\n",
    "\n",
    "# Using the template add the hotel marks to the heatmap\n",
    "info_box_template = \"\"\"\n",
    "<dl>\n",
    "<dt>Name</dt><dd>{Hotel Name}</dd>\n",
    "<dt>City</dt><dd>{city}</dd>\n",
    "<dt>Country</dt><dd>{country}</dd>\n",
    "</dl>\n",
    "\"\"\"\n",
    "# Store the DataFrame Row\n",
    "hotel_info = [info_box_template.format(**row) for index, row in hotel_df.iterrows()]\n",
    "locations = hotel_df[[\"lat\", \"lng\"]]"
   ]
  },
  {
   "cell_type": "code",
   "execution_count": 6,
   "metadata": {},
   "outputs": [
    {
     "data": {
      "application/vnd.jupyter.widget-view+json": {
       "model_id": "77802b9d6dda45fc867d08648b462b8c",
       "version_major": 2,
       "version_minor": 0
      },
      "text/plain": [
       "Figure(layout=FigureLayout(height='420px'))"
      ]
     },
     "metadata": {},
     "output_type": "display_data"
    }
   ],
   "source": [
    "###################################################\n",
    "#05      Marker Overlay                           #\n",
    "#   a- assign marker layer to variable markers.   #\n",
    "#   b- add layer to map and display.              #\n",
    "###################################################\n",
    "\n",
    "#a\n",
    "markers = gmaps.marker_layer(locations,info_box_content =hotel_info)\n",
    "#b\n",
    "fig.add_layer(markers)\n",
    "fig"
   ]
  }
 ],
 "metadata": {
  "kernelspec": {
   "display_name": "Python 3",
   "language": "python",
   "name": "python3"
  },
  "language_info": {
   "codemirror_mode": {
    "name": "ipython",
    "version": 3
   },
   "file_extension": ".py",
   "mimetype": "text/x-python",
   "name": "python",
   "nbconvert_exporter": "python",
   "pygments_lexer": "ipython3",
   "version": "3.7.6"
  },
  "latex_envs": {
   "LaTeX_envs_menu_present": true,
   "autoclose": false,
   "autocomplete": true,
   "bibliofile": "biblio.bib",
   "cite_by": "apalike",
   "current_citInitial": 1,
   "eqLabelWithNumbers": true,
   "eqNumInitial": 1,
   "hotkeys": {
    "equation": "Ctrl-E",
    "itemize": "Ctrl-I"
   },
   "labels_anchors": false,
   "latex_user_defs": false,
   "report_style_numbering": false,
   "user_envs_cfg": false
  }
 },
 "nbformat": 4,
 "nbformat_minor": 2
}
